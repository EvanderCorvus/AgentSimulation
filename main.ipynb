{
 "cells": [
  {
   "cell_type": "code",
   "execution_count": 366,
   "metadata": {},
   "outputs": [],
   "source": [
    "import torch as tr\n",
    "import torch.nn as nn\n",
    "import matplotlib.pyplot as plt\n",
    "import numpy as np"
   ]
  },
  {
   "cell_type": "code",
   "execution_count": 367,
   "metadata": {},
   "outputs": [],
   "source": [
    "device = tr.device('cuda' if tr.cuda.is_available() else 'cpu')\n",
    "# print(device)"
   ]
  },
  {
   "cell_type": "code",
   "execution_count": 368,
   "metadata": {},
   "outputs": [],
   "source": [
    "def d(L,a=1):\n",
    "    direction_mapping = [\n",
    "        tr.tensor([0,1],dtype=tr.float).to(device), #up\n",
    "        tr.tensor([0,-1],dtype=tr.float).to(device),#down\n",
    "        tr.tensor([-1,0],dtype=tr.float).to(device), #left\n",
    "        tr.tensor([1,0],dtype=tr.float).to(device) #right\n",
    "    ]\n",
    "\n",
    "    return tr.stack(direction_mapping).to(device)[L]*a\n",
    "\n",
    "def custom_loss(output,target):\n",
    "    return tr((output-target)**2).mean()"
   ]
  },
  {
   "cell_type": "code",
   "execution_count": 369,
   "metadata": {},
   "outputs": [],
   "source": [
    "#Agent Class\n",
    "class Agent(nn.Module):\n",
    "    def __init__(self, x, y):#initialize agent at location (-0.5,-0.5) with bias 0\n",
    "        super(Agent, self).__init__()\n",
    "        self.x=x #x coordinate\n",
    "        self.y=y #y coordinate\n",
    "        self.input = nn.Linear(4, 64,dtype=tr.float) #input layer\n",
    "        self.hidden1 = nn.Linear(64, 64,dtype=tr.float) #hidden layer\n",
    "        self.hidden2 = nn.Linear(64, 32, dtype = tr.float) #hidden layer\n",
    "        self.output = nn.Linear(32, 4,dtype=tr.float) #output layer\n",
    "        self.activation = nn.LeakyReLU() #activation function\n",
    "\n",
    "    def forward(self, x): #forward pass\n",
    "        x1 = self.activation(self.input(x))\n",
    "        x2 = self.activation(self.hidden1(x1))\n",
    "        x3 = self.activation(self.hidden2(x2))\n",
    "        x4 = self.activation(self.output(x3))\n",
    "        return x4\n",
    "    \n",
    "\n",
    "    def move(self,Q,e):\n",
    "        # E=tr.ones(Q.shape[0]).to(device)\n",
    "        # E*=e\n",
    "        # if tr.rand(size=(Q.shape[0])).to(device) < E: #epsilon greedy\n",
    "        #     L = tr.randint(0, 4, Q.shape[0]).to(device)\n",
    "        # else: L = tr.argmax(Q,dim=1)\n",
    "        L=tr.argmax(Q,dim=1)\n",
    "        a = tr.tensor(0.0357,dtype=tr.float).to(device)\n",
    "        dr = d(L,a)\n",
    "        dx = dr[:,0]\n",
    "        dy = dr[:,1]\n",
    "        # if (-0.75<=self.x+dx<=0.75).item() == False:\n",
    "        #     dx = tr.tensor(0,dtype=tr.float).to(device)\n",
    "        # if (-0.75<=self.y+dy<=0.75).item() == False:\n",
    "        #     dy = tr.tensor(0,dtype=tr.float).to(device)\n",
    "        self.x+=dx\n",
    "        self.y+=dy\n",
    "\n",
    "def R(x,y,F,Q):\n",
    "    if (round(x,2),round(y,2))==(0.5,0.): return 10\n",
    "    # u = F/tr.norm(F)\n",
    "    # td = d(tr.argmax(Q))\n",
    "    # dr = td*0.0357\n",
    "    # e = td - u/tr.norm(td-u) #unit vector that when summed with F is parallel to td\n",
    "    # v = e + F\n",
    "    # dt = 0.0357/(tr.dot(v,dr))\n",
    "    #return -dt.item()/1000\n",
    "    return -tr.norm(tr.tensor([x-0.5,y],dtype=float).to(device),dim=1)"
   ]
  },
  {
   "cell_type": "code",
   "execution_count": 370,
   "metadata": {},
   "outputs": [],
   "source": [
    "#Simulation Setup\n",
    "\n",
    "def episode(agent,t_agent,t_update, max_steps,g,optimizer):\n",
    "    X,Y = tr.tensor([agent.x[0]], dtype=tr.float).to(device), tr.tensor([agent.y[0]], dtype=tr.float).to(device)\n",
    "    for dT in range(max_steps):\n",
    "        optimizer.zero_grad()                   #zero gradients\n",
    "\n",
    "        if dT%t_update==0:              #update target agent every 100 steps\n",
    "            t_agent.load_state_dict(agent.state_dict())\n",
    "            #print(agent.x,agent.y)\n",
    "\n",
    "\n",
    "        state = tr.stack([agent.x, agent.y, -tr.abs(agent.y), tr.zeros(agent.x.shape[0],dtype=tr.float).to(device)],dim=1) #state\n",
    "        Q1 = agent.forward(state)#.transpose(0,1)) #Q value\n",
    "        e = 1-dT/max_steps #epsilon\n",
    "        agent.move(Q1,tr.tensor(e,dtype=tr.float).to(device))      \t    #move agent\n",
    "\n",
    "        state2 = tr.stack([agent.x, agent.y, -tr.abs(agent.y), tr.zeros(agent.x.shape[0],dtype=tr.float).to(device)],dim=1) #state\n",
    "        Q2 = t_agent.forward(state2)#.transpose(0,1)) #Q value of target agent\n",
    "        \n",
    "        F = tr.stack([-agent.y,tr.zeros(agent.y.shape,dtype=tr.float).to(device)]).to(device)\n",
    "        target = R(agent.x.item(), agent.y.item(), F, Q1)+ g*tr.max(Q2,dim=1)         #target Q value\n",
    "        #criterion = nn.MSELoss()\n",
    "        loss = custom_loss(target,tr.max(Q1,dim=1)) #criterion(tQ,tr.max(Q1))         #loss\n",
    "\n",
    "\n",
    "        \n",
    "        loss.backward()                         #backpropagate\n",
    "        optimizer.step()                        #update weights\n",
    "        # if (tr.round(agent.x,decimals = 2),tr.round(agent.y,decimals = 2)) == (0.5000,0.0000):\n",
    "        #     print('success')\n",
    "        #     break\n",
    "        X = tr.cat([X,tr.tensor([agent.x[0]],dtype=tr.float).to(device)])\n",
    "        Y = tr.cat([Y,tr.tensor([agent.y[0]],dtype=tr.float).to(device)])\n",
    "\n",
    "    return X,Y\n",
    "\n",
    "# print(tr.round(agent.x,decimals = 1),tr.round(agent.y,decimals = 1))\n"
   ]
  },
  {
   "cell_type": "code",
   "execution_count": 371,
   "metadata": {},
   "outputs": [
    {
     "ename": "RuntimeError",
     "evalue": "a Tensor with 128 elements cannot be converted to Scalar",
     "output_type": "error",
     "traceback": [
      "\u001b[1;31m---------------------------------------------------------------------------\u001b[0m",
      "\u001b[1;31mRuntimeError\u001b[0m                              Traceback (most recent call last)",
      "Cell \u001b[1;32mIn[371], line 15\u001b[0m\n\u001b[0;32m     13\u001b[0m \u001b[39m#X,Y = episode(agent, t_agent, t_update = 100, max_steps = 500, g=0.4, optimizer=optimizer)\u001b[39;00m\n\u001b[0;32m     14\u001b[0m \u001b[39mfor\u001b[39;00m epoch \u001b[39min\u001b[39;00m \u001b[39mrange\u001b[39m(\u001b[39m10\u001b[39m):\n\u001b[1;32m---> 15\u001b[0m     X,Y \u001b[39m=\u001b[39m episode(agent, t_agent, t_update \u001b[39m=\u001b[39;49m \u001b[39m100\u001b[39;49m, max_steps \u001b[39m=\u001b[39;49m \u001b[39m100\u001b[39;49m, g\u001b[39m=\u001b[39;49m\u001b[39m0.4\u001b[39;49m, optimizer\u001b[39m=\u001b[39;49moptimizer)\n\u001b[0;32m     16\u001b[0m     agent\u001b[39m.\u001b[39mx \u001b[39m=\u001b[39m tr\u001b[39m.\u001b[39mrandn(\u001b[39m128\u001b[39m, dtype\u001b[39m=\u001b[39mtr\u001b[39m.\u001b[39mfloat)\u001b[39m.\u001b[39mto(device)\u001b[39m/\u001b[39m\u001b[39m10\u001b[39m\u001b[39m-\u001b[39m\u001b[39m0.2\u001b[39m\n\u001b[0;32m     17\u001b[0m     agent\u001b[39m.\u001b[39my \u001b[39m=\u001b[39m tr\u001b[39m.\u001b[39mrandn(\u001b[39m128\u001b[39m, dtype\u001b[39m=\u001b[39mtr\u001b[39m.\u001b[39mfloat)\u001b[39m.\u001b[39mto(device)\u001b[39m/\u001b[39m\u001b[39m10\u001b[39m\n",
      "Cell \u001b[1;32mIn[370], line 22\u001b[0m, in \u001b[0;36mepisode\u001b[1;34m(agent, t_agent, t_update, max_steps, g, optimizer)\u001b[0m\n\u001b[0;32m     19\u001b[0m Q2 \u001b[39m=\u001b[39m t_agent\u001b[39m.\u001b[39mforward(state2)\u001b[39m#.transpose(0,1)) #Q value of target agent\u001b[39;00m\n\u001b[0;32m     21\u001b[0m F \u001b[39m=\u001b[39m tr\u001b[39m.\u001b[39mstack([\u001b[39m-\u001b[39magent\u001b[39m.\u001b[39my,tr\u001b[39m.\u001b[39mzeros(agent\u001b[39m.\u001b[39my\u001b[39m.\u001b[39mshape,dtype\u001b[39m=\u001b[39mtr\u001b[39m.\u001b[39mfloat)\u001b[39m.\u001b[39mto(device)])\u001b[39m.\u001b[39mto(device)\n\u001b[1;32m---> 22\u001b[0m target \u001b[39m=\u001b[39m R(agent\u001b[39m.\u001b[39;49mx\u001b[39m.\u001b[39;49mitem(), agent\u001b[39m.\u001b[39my\u001b[39m.\u001b[39mitem(), F, Q1)\u001b[39m+\u001b[39m g\u001b[39m*\u001b[39mtr\u001b[39m.\u001b[39mmax(Q2,dim\u001b[39m=\u001b[39m\u001b[39m1\u001b[39m)         \u001b[39m#target Q value\u001b[39;00m\n\u001b[0;32m     23\u001b[0m \u001b[39m#criterion = nn.MSELoss()\u001b[39;00m\n\u001b[0;32m     24\u001b[0m loss \u001b[39m=\u001b[39m custom_loss(target,tr\u001b[39m.\u001b[39mmax(Q1,dim\u001b[39m=\u001b[39m\u001b[39m1\u001b[39m)) \u001b[39m#criterion(tQ,tr.max(Q1))         #loss\u001b[39;00m\n",
      "\u001b[1;31mRuntimeError\u001b[0m: a Tensor with 128 elements cannot be converted to Scalar"
     ]
    }
   ],
   "source": [
    "#Simulation\n",
    "x = tr.randn(128, dtype=tr.float).to(device)/10-0.2\n",
    "y = tr.randn(128, dtype=tr.float).to(device)/10\n",
    "agent = Agent(x,y).to(device)\n",
    "\n",
    "t_agent = Agent(x,y).to(device)\n",
    "t_agent.load_state_dict(agent.state_dict()) #copies weights from agent to t_agent\n",
    "t_agent.eval()\n",
    "\n",
    "t_update = 100\n",
    "optimizer = tr.optim.Adam(agent.parameters(), lr=0.001)\n",
    "\n",
    "#X,Y = episode(agent, t_agent, t_update = 100, max_steps = 500, g=0.4, optimizer=optimizer)\n",
    "for epoch in range(10):\n",
    "    X,Y = episode(agent, t_agent, t_update = 100, max_steps = 100, g=0.4, optimizer=optimizer)\n",
    "    agent.x = tr.randn(128, dtype=tr.float).to(device)/10-0.2\n",
    "    agent.y = tr.randn(128, dtype=tr.float).to(device)/10\n",
    "    # plt.plot(X.cpu().detach().numpy(),Y.cpu().detach().numpy())\n",
    "    # plt.show()\n",
    "\n"
   ]
  },
  {
   "cell_type": "code",
   "execution_count": null,
   "metadata": {},
   "outputs": [
    {
     "data": {
      "image/png": "[encoded data removed]",
      "text/plain": [
       "<Figure size 640x480 with 1 Axes>"
      ]
     },
     "metadata": {},
     "output_type": "display_data"
    }
   ],
   "source": [
    "#Plotting :D\n",
    "x,y = X.detach().to('cpu').numpy(),Y.detach().to('cpu').numpy()\n",
    "plt.scatter(x,y,c=np.arange(len(x)),cmap='viridis')\n",
    "plt.scatter(0.5,0,c='r',label='goal')\n",
    "plt.scatter(-0.5,0,c='g',label='start')\n",
    "plt.legend()\n",
    "plt.show()"
   ]
  }
 ],
 "metadata": {
  "kernelspec": {
   "display_name": "tr",
   "language": "python",
   "name": "python3"
  },
  "language_info": {
   "codemirror_mode": {
    "name": "ipython",
    "version": 3
   },
   "file_extension": ".py",
   "mimetype": "text/x-python",
   "name": "python",
   "nbconvert_exporter": "python",
   "pygments_lexer": "ipython3",
   "version": "3.11.3"
  },
  "orig_nbformat": 4
 },
 "nbformat": 4,
 "nbformat_minor": 2
}
