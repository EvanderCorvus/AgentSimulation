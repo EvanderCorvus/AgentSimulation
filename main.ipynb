{
 "cells": [
  {
   "cell_type": "code",
   "execution_count": 63,
   "metadata": {},
   "outputs": [],
   "source": [
    "import torch as tr\n",
    "import torch.nn as nn\n",
    "import matplotlib.pyplot as plt\n",
    "import numpy as np"
   ]
  },
  {
   "cell_type": "code",
   "execution_count": 64,
   "metadata": {},
   "outputs": [],
   "source": [
    "#Force Field\n",
    "\n",
    "X,Y = np.linspace(-0.75,0.75,43),np.linspace(-0.75,0.75,43)\n",
    "\n",
    "# def U(x,y,U_0=0.4): #potential function, U_0 is the amplitude, x and y are the coordinates, Gradient needs to be calculated manually in forward pass.\n",
    "#     if (x**2+y**2)**0.5<=0.5:\n",
    "#         return tr.tensor((16*U_0*((x**2+y**2)**0.5-0.25)**2),dtype=tr.half)\n",
    "#     else:\n",
    "#         return tr.tensor(0,dtype=tr.half)\n",
    "\n",
    "def U(x,y,U_0=0.4): #potential function, U_0 is the amplitude, x and y are the coordinates, Gradient needs to be calculated manually in forward pass.\n",
    "    if (x**2+y**2)**0.5<=0.5:\n",
    "        return 16*U_0*((x**2+y**2)**0.5-0.25)**2\n",
    "    else:\n",
    "        return 0\n",
    "# Z = U(X,Y)\n",
    "# F = tr.from_numpy(np.gradient(Z))\n",
    "# print(F.shape)"
   ]
  },
  {
   "cell_type": "code",
   "execution_count": 65,
   "metadata": {},
   "outputs": [
    {
     "name": "stderr",
     "output_type": "stream",
     "text": [
      "C:\\Users\\igonn\\AppData\\Local\\Temp\\ipykernel_17692\\1769924650.py:11: UserWarning: To copy construct from a tensor, it is recommended to use sourceTensor.clone().detach() or sourceTensor.clone().detach().requires_grad_(True), rather than torch.tensor(sourceTensor).\n",
      "  F = tr.tensor(tr.from_numpy(np.stack((force_field_x, force_field_y), axis=2)),dtype=tr.float)\n"
     ]
    }
   ],
   "source": [
    "#Toy Force Field\n",
    "x = np.linspace(-0.75, 0.75, 100)\n",
    "y = np.linspace(-0.75, 0.75, 100)\n",
    "X, Y = np.meshgrid(x, y)\n",
    "\n",
    "# Calculate the force field\n",
    "force_field_x = -np.abs(Y)\n",
    "force_field_y = np.zeros_like(X)\n",
    "\n",
    "# Create the meshgrid for force field\n",
    "F = tr.tensor(tr.from_numpy(np.stack((force_field_x, force_field_y), axis=2)),dtype=tr.float)\n"
   ]
  },
  {
   "cell_type": "code",
   "execution_count": 66,
   "metadata": {},
   "outputs": [],
   "source": [
    "#Agent Class\n",
    "class Agent(nn.Module):\n",
    "    def __init__(self,x=tr.tensor(-0.5,dtype=tr.float),y=tr.tensor(0,dtype=tr.float),b=tr.tensor(0,dtype=tr.float)):#initialize agent at location (-0.5,-0.5)\n",
    "        super(Agent, self).__init__()\n",
    "        self.x=x #x coordinate\n",
    "        self.y=y #y coordinate\n",
    "        self.b=b #bias\n",
    "        self.input = nn.Linear(5, 64,dtype=tr.float) #input layer\n",
    "        self.hidden = nn.Linear(64, 32,dtype=tr.float) #hidden layer\n",
    "        self.output = nn.Linear(32, 4,dtype=tr.float) #hidden layer\n",
    "        self.activation = nn.ReLU() #activation function\n",
    "        #self.arctan = nn.Atan() #arctan function\n",
    "\n",
    "    def forward(self, x): #forward pass\n",
    "        x1 = self.activation(self.input(x))\n",
    "        x2 = self.activation(self.hidden(x1))\n",
    "        x3 = self.activation(self.output(x2))\n",
    "        return x3\n",
    "    \n",
    "\n",
    "    def move(self,Q):\n",
    "        L = tr.argmax(Q)\n",
    "        dx,dy = 0,0\n",
    "        if L==0: dx = 0.0357 #up\n",
    "        elif L==1: dx = -0.0357 #down\n",
    "        elif L==2: dy = 0.0357 #right\n",
    "        elif L==3: dy = -0.0357 #left\n",
    "        \n",
    "        if not -0.75<=self.x+dx<=0.75:\n",
    "            dx=0\n",
    "        if not -0.75<=self.y+dy<=0.75:\n",
    "            dy=0\n",
    "        self.x+=dx\n",
    "        self.y+=dy\n",
    "\n",
    "# def R(F):\n",
    "#     dt = 0.0357/F\n",
    "#     return -dt/1000\n",
    "\n",
    "def R(x,y):\n",
    "    return -tr.norm(tr.tensor([x-0.5,y]),p=2)"
   ]
  },
  {
   "cell_type": "code",
   "execution_count": 67,
   "metadata": {},
   "outputs": [
    {
     "name": "stdout",
     "output_type": "stream",
     "text": [
      "tensor(0.7495) tensor(-0.2856)\n"
     ]
    }
   ],
   "source": [
    "#Simulation\n",
    "agent = Agent()\n",
    "# t_agent = Agent()\n",
    "optimizer = tr.optim.Adam(agent.parameters(), lr=0.001)\n",
    "dT = 0\n",
    "g = 0.8\n",
    "while dT<1000:\n",
    "    dT+=1\n",
    "    # if dT%100==0:#update target agent every 100 steps\n",
    "    #     t_agent=agent\n",
    "    \n",
    "    Q1 = agent.forward(tr.tensor([agent.x,agent.y,-np.abs(agent.y),tr.tensor(0,dtype=tr.float),agent.b])) #Q value\n",
    "    agent.move(Q1) #move agent\n",
    "    Q2 = agent.forward(tr.tensor([agent.x,agent.y,-tr.abs(agent.y),tr.tensor(0,dtype=tr.float),agent.b])) #Q value\n",
    "    s = tr.tensor([agent.x,agent.y],dtype=tr.float) #state\n",
    "    tQ = R(s[0],s[1])+ g*tr.max(Q2) #target Q value\n",
    "    criterion = nn.MSELoss() #1/2*(tQ-Q1)**2 #loss\n",
    "    loss = criterion(tQ,tr.max(Q1)) #loss\n",
    "    optimizer.zero_grad() #zero gradients\n",
    "    loss.backward() #backpropagate\n",
    "    optimizer.step() #update weights\n",
    "    if (tr.round(agent.x,decimals = 1),tr.round(agent.y,decimals = 1)) == (0.5,0.5):\n",
    "        print('success')\n",
    "        break\n",
    "print(agent.x,agent.y)"
   ]
  }
 ],
 "metadata": {
  "kernelspec": {
   "display_name": "tr",
   "language": "python",
   "name": "python3"
  },
  "language_info": {
   "codemirror_mode": {
    "name": "ipython",
    "version": 3
   },
   "file_extension": ".py",
   "mimetype": "text/x-python",
   "name": "python",
   "nbconvert_exporter": "python",
   "pygments_lexer": "ipython3",
   "version": "3.11.3"
  },
  "orig_nbformat": 4
 },
 "nbformat": 4,
 "nbformat_minor": 2
}
