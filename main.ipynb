{
 "cells": [
  {
   "cell_type": "code",
   "execution_count": 108,
   "metadata": {},
   "outputs": [],
   "source": [
    "import torch as tr\n",
    "import torch.nn as nn\n",
    "import matplotlib.pyplot as plt\n",
    "import numpy as np\n",
    "import random as rn"
   ]
  },
  {
   "cell_type": "code",
   "execution_count": 109,
   "metadata": {},
   "outputs": [],
   "source": [
    "device = tr.device('cuda' if tr.cuda.is_available() else 'cpu')\n",
    "# print(device)"
   ]
  },
  {
   "cell_type": "code",
   "execution_count": 110,
   "metadata": {},
   "outputs": [],
   "source": [
    "#Force Field\n",
    "\n",
    "X,Y = np.linspace(-0.75,0.75,43),np.linspace(-0.75,0.75,43)\n",
    "\n",
    "# def U(x,y,U_0=0.4): #potential function, U_0 is the amplitude, x and y are the coordinates, Gradient needs to be calculated manually in forward pass.\n",
    "#     if (x**2+y**2)**0.5<=0.5:\n",
    "#         return tr.tensor((16*U_0*((x**2+y**2)**0.5-0.25)**2),dtype=tr.half)\n",
    "#     else:\n",
    "#         return tr.tensor(0,dtype=tr.half)\n",
    "\n",
    "def U(x,y,U_0=0.4): #potential function, U_0 is the amplitude, x and y are the coordinates, Gradient needs to be calculated manually in forward pass.\n",
    "    if (x**2+y**2)**0.5<=0.5:\n",
    "        return 16*U_0*((x**2+y**2)**0.5-0.25)**2\n",
    "    else:\n",
    "        return 0\n",
    "# Z = U(X,Y)\n",
    "# F = tr.from_numpy(np.gradient(Z))\n",
    "# print(F.shape)"
   ]
  },
  {
   "cell_type": "code",
   "execution_count": 111,
   "metadata": {},
   "outputs": [
    {
     "name": "stderr",
     "output_type": "stream",
     "text": [
      "C:\\Users\\igonn\\AppData\\Local\\Temp\\ipykernel_17692\\1769924650.py:11: UserWarning: To copy construct from a tensor, it is recommended to use sourceTensor.clone().detach() or sourceTensor.clone().detach().requires_grad_(True), rather than torch.tensor(sourceTensor).\n",
      "  F = tr.tensor(tr.from_numpy(np.stack((force_field_x, force_field_y), axis=2)),dtype=tr.float)\n"
     ]
    }
   ],
   "source": [
    "#Toy Force Field\n",
    "x = np.linspace(-0.75, 0.75, 100)\n",
    "y = np.linspace(-0.75, 0.75, 100)\n",
    "X, Y = np.meshgrid(x, y)\n",
    "\n",
    "# Calculate the force field\n",
    "force_field_x = -np.abs(Y)\n",
    "force_field_y = np.zeros_like(X)\n",
    "\n",
    "# Create the meshgrid for force field\n",
    "F = tr.tensor(tr.from_numpy(np.stack((force_field_x, force_field_y), axis=2)),dtype=tr.float)\n"
   ]
  },
  {
   "cell_type": "code",
   "execution_count": 112,
   "metadata": {},
   "outputs": [],
   "source": [
    "#Agent Class\n",
    "class Agent(nn.Module):\n",
    "    def __init__(self,x=tr.tensor(-0.5,dtype=tr.float),y=tr.tensor(0,dtype=tr.float),b=tr.tensor(0,dtype=tr.float)):#initialize agent at location (-0.5,-0.5)\n",
    "        super(Agent, self).__init__()\n",
    "        self.x=x #x coordinate\n",
    "        self.y=y #y coordinate\n",
    "        self.b=b #bias\n",
    "        self.input = nn.Linear(5, 64,dtype=tr.float) #input layer\n",
    "        self.hidden1 = nn.Linear(64, 64,dtype=tr.float) #hidden layer\n",
    "        self.hidden2 = nn.Linear(64, 32, dtype = tr.float)\n",
    "        self.output = nn.Linear(32, 4,dtype=tr.float) #hidden layer\n",
    "        self.activation = nn.ReLU() #activation function\n",
    "\n",
    "    def forward(self, x, network = None): #forward pass\n",
    "        if network is None: network = self\n",
    "        x1 = self.activation(self.input(x))\n",
    "        x2 = self.activation(self.hidden1(x1))\n",
    "        x3 = self.activation(self.hidden2(x2))\n",
    "        x4 = self.activation(self.output(x3))\n",
    "        return x4\n",
    "    \n",
    "\n",
    "    def move(self,Q,e):\n",
    "        if rn.random()<e:\n",
    "            L = rn.randint(0,3)\n",
    "        else: L = tr.argmax(Q)\n",
    "        \n",
    "        dx,dy = 0,0\n",
    "        if L==0: dx = 0.0357 #up\n",
    "        elif L==1: dx = -0.0357 #down\n",
    "        elif L==2: dy = 0.0357 #right\n",
    "        elif L==3: dy = -0.0357 #left\n",
    "        \n",
    "        if not -0.75<=self.x+dx<=0.75:\n",
    "            dx=0\n",
    "        if not -0.75<=self.y+dy<=0.75:\n",
    "            dy=0\n",
    "        self.x+=dx\n",
    "        self.y+=dy\n",
    "\n",
    "def R(x,y,F):\n",
    "    dt = 0.0357/(F+1e-8)\n",
    "    return -0.5*dt/1000-0.5*tr.norm(tr.tensor([x-0.5,y]),p=2)\n",
    "\n",
    "# def R(x,y):\n",
    "#     return -tr.norm(tr.tensor([x-0.5,y]),p=2)"
   ]
  },
  {
   "cell_type": "code",
   "execution_count": 113,
   "metadata": {},
   "outputs": [
    {
     "name": "stdout",
     "output_type": "stream",
     "text": [
      "tensor(0.7000) tensor(0.3000)\n"
     ]
    }
   ],
   "source": [
    "#Simulation\n",
    "agent = Agent().to(device)\n",
    "t_agent = Agent().to(device)\n",
    "t_agent.load_state_dict(agent.state_dict())\n",
    "t_agent.eval()\n",
    "t_update = 100\n",
    "optimizer = tr.optim.Adam(agent.parameters(), lr=0.001)\n",
    "dT = 0\n",
    "g = 0.8\n",
    "max_steps = 2000\n",
    "while dT<max_steps:\n",
    "    dT+=1\n",
    "    if dT%t_update==0:#update target agent every 100 steps\n",
    "        t_agent.load_state_dict(agent.state_dict())\n",
    "    \n",
    "    Q1 = agent.forward(tr.tensor([agent.x,agent.y,-np.abs(agent.y),tr.tensor(0,dtype=tr.float),agent.b]).to(device)) #Q value\n",
    "\n",
    "    e = 1-dT/max_steps #epsilon\n",
    "    agent.move(Q1,e)      \t    #move agent\n",
    "\n",
    "    Q2 = agent.forward(tr.tensor([agent.x,agent.y,-tr.abs(agent.y),tr.tensor(0,dtype=tr.float),agent.b]).to(device),network=t_agent) #Q value\n",
    "    tQ = R(agent.x,agent.y,agent.y)+ g*tr.max(Q2)         #target Q value\n",
    "    criterion = nn.MSELoss().to(device)     #1/2*(tQ-Q1)**2 #loss\n",
    "    loss = criterion(tQ,tr.max(Q1))         #loss\n",
    "    \n",
    "    optimizer.zero_grad()                   #zero gradients\n",
    "    loss.backward()                         #backpropagate\n",
    "    optimizer.step()                        #update weights\n",
    "    if (tr.round(agent.x,decimals = 1),tr.round(agent.y,decimals = 1)) == (0.5000,0.5000):\n",
    "        print('success')\n",
    "        break\n",
    "print(agent.x,agent.y)\n",
    "# print(tr.round(agent.x,decimals = 1),tr.round(agent.y,decimals = 1))"
   ]
  }
 ],
 "metadata": {
  "kernelspec": {
   "display_name": "tr",
   "language": "python",
   "name": "python3"
  },
  "language_info": {
   "codemirror_mode": {
    "name": "ipython",
    "version": 3
   },
   "file_extension": ".py",
   "mimetype": "text/x-python",
   "name": "python",
   "nbconvert_exporter": "python",
   "pygments_lexer": "ipython3",
   "version": "3.11.3"
  },
  "orig_nbformat": 4
 },
 "nbformat": 4,
 "nbformat_minor": 2
}
