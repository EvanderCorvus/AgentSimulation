{
 "cells": [
  {
   "attachments": {},
   "cell_type": "markdown",
   "metadata": {},
   "source": [
    "Code wird auch regelmäßig bei https://github.com/EvanderCorvus/AgentSimulation updated.\n"
   ]
  },
  {
   "cell_type": "code",
   "execution_count": 85,
   "metadata": {},
   "outputs": [],
   "source": [
    "import torch as tr\n",
    "import torch.nn as nn\n",
    "import matplotlib.pyplot as plt\n",
    "import numpy as np"
   ]
  },
  {
   "cell_type": "code",
   "execution_count": 86,
   "metadata": {},
   "outputs": [],
   "source": [
    "device = tr.device('cuda' if tr.cuda.is_available() else 'cpu')\n",
    "# print(device)\n",
    "tr.set_default_dtype(tr.float)\n",
    "tr.set_default_device(device)"
   ]
  },
  {
   "attachments": {},
   "cell_type": "markdown",
   "metadata": {},
   "source": [
    "Die Simulation befasst 256 \"Agenten\", die parallel lernen. Deren positionen wird gesamt in einer instanz der klasse Agent() gegeben. Forward ist hatt dann einen input von shape [4,256] und der Output auch (Ist dann der Q wert für jede Aktion für jeden der 256 Agenten).\n",
    "Jede Episode hat eine vorgegebene anzahl an schritten, und ein Agent wird über mehrere Episoden trainiert. D.h. Er fängt wieder von Vorne an aber die weights bleiben. Die Loss wird dann über MSE von allen Agenten durchgeführt.\n"
   ]
  },
  {
   "cell_type": "code",
   "execution_count": 87,
   "metadata": {},
   "outputs": [],
   "source": [
    "#hyperparameters\n",
    "batch_size = 256\n",
    "epoch = 40\n",
    "t_update = 10\n",
    "g = 0.6\n",
    "max_steps = 100"
   ]
  },
  {
   "attachments": {},
   "cell_type": "markdown",
   "metadata": {},
   "source": [
    "Diese Funktion ersetzt Indizes (argmax(Q)) mit dem entsprechenden Bewegungsvektor."
   ]
  },
  {
   "cell_type": "code",
   "execution_count": 88,
   "metadata": {},
   "outputs": [],
   "source": [
    "def d(L,a=1):\n",
    "    direction_mapping = [\n",
    "        tr.tensor([0,1],dtype=tr.float).to(device), #up\n",
    "        tr.tensor([0,-1],dtype=tr.float).to(device),#down\n",
    "        tr.tensor([-1,0],dtype=tr.float).to(device), #left\n",
    "        tr.tensor([1,0],dtype=tr.float).to(device) #right\n",
    "    ]\n",
    "    return tr.stack(direction_mapping).to(device)[L]*a\n"
   ]
  },
  {
   "cell_type": "code",
   "execution_count": 89,
   "metadata": {},
   "outputs": [],
   "source": [
    "#Agent Class\n",
    "class Agent(nn.Module):\n",
    "    def __init__(self, x, y):#initialize agent at location (-0.5,-0.5) with bias 0\n",
    "        super(Agent, self).__init__()\n",
    "        self.x=x #x coordinate\n",
    "        self.y=y #y coordinate\n",
    "        self.input = nn.Linear(4, 64,dtype=tr.float) #input layer\n",
    "        self.hidden1 = nn.Linear(64, 64,dtype=tr.float) #hidden layer\n",
    "        self.hidden2 = nn.Linear(64, 64,dtype=tr.float) #hidden layer\n",
    "        self.hidden3 = nn.Linear(64, 64,dtype=tr.float) #hidden layer\n",
    "        # self.hidden4 = nn.Linear(64, 64,dtype=tr.float) #hidden layer\n",
    "        # self.hidden5 = nn.Linear(64, 32, dtype = tr.float) #hidden layer\n",
    "        self.output = nn.Linear(64, 4,dtype=tr.float) #output layer\n",
    "        self.activation = nn.LeakyReLU() #activation function\n",
    "\n",
    "    def forward(self, x): #forward pass\n",
    "        x1 = self.activation(self.input(x))\n",
    "        x2 = self.activation(self.hidden1(x1))\n",
    "        x3 = self.activation(self.hidden2(x2))\n",
    "        x4 = self.activation(self.hidden3(x3))\n",
    "        # x5 = self.activation(self.hidden4(x4))\n",
    "        # x6 = self.activation(self.hidden5(x5))\n",
    "        x7 = self.output(x4)\n",
    "        return x7\n",
    "    \n",
    "\n",
    "    def move(self,Q,e): \n",
    "\n",
    "        L=tr.argmax(Q,dim=1)\n",
    "        random_vector = tr.rand(L.shape,dtype=tr.float).to(device)\n",
    "        bool_vector = random_vector<e\n",
    "        #randomly choose action with probability e\n",
    "        L[bool_vector] = tr.randint(0,4,(1,),dtype=tr.int64).to(device) \n",
    "        a = tr.tensor(0.0357,dtype=tr.float).to(device)\n",
    "        dr = d(L,a) \n",
    "        dx = dr[:,0]\n",
    "        dy = dr[:,1]\n",
    "\n",
    "        self.x+=dx\n",
    "        self.y+=dy\n",
    "\n",
    "def R(x,y,F,Q):#Reward Funktion ist die Distanz zum Ziel\n",
    "    #if (round(x,2),round(y,2))==(0.5,0.): return 10\n",
    "    # u = F/tr.norm(F)\n",
    "    # td = d(tr.argmax(Q))\n",
    "    # dr = td*0.0357\n",
    "    # e = td - u/tr.norm(td-u) #unit vector that when summed with F is parallel to td\n",
    "    # v = e + F\n",
    "    # dt = 0.0357/(tr.dot(v,dr))\n",
    "    #return -dt.item()/1000\n",
    "   \n",
    "    dist = tr.stack([x-0.5,y],dim=1).to(device)\n",
    "    return -tr.norm(dist,dim=1)"
   ]
  },
  {
   "attachments": {},
   "cell_type": "markdown",
   "metadata": {},
   "source": [
    "Um den Lernprozess zu stabilisieren, wird ein target Network benutzt, welches nur jede 100 schritte auf den current agent synchronisiert wird. Mit der wird Q(s',a') berechnet. Aufgrund der Parallelisierung ist greedy-epsilon nicht eingebaut.\n",
    "Das Kraftfeld hier ist F=(-y,0) aber es wird gar nicht in der reward funktion eingebracht also noch ist das keine nützliche Infomation für das NN."
   ]
  },
  {
   "cell_type": "code",
   "execution_count": 90,
   "metadata": {},
   "outputs": [],
   "source": [
    "#Simulation Setup\n",
    "def episode(agent,t_agent,t_update, max_steps,g,optimizer,e):\n",
    "    \n",
    "    X,Y = agent.x,agent.y\n",
    "    for dT in range(max_steps):\n",
    "        optimizer.zero_grad()#zero gradients\n",
    "\n",
    "        if dT%t_update==0:#update target agent every 100 steps\n",
    "            t_agent.load_state_dict(agent.state_dict())\n",
    "\n",
    "\n",
    "        state = tr.stack([agent.x, agent.y, -tr.abs(agent.y), tr.zeros(agent.x.shape[0],dtype=tr.float).to(device)],dim=1) #state\n",
    "        Q1 = agent.forward(state)\n",
    "        agent.move(Q1,e)\n",
    "\n",
    "        state2 = tr.stack([agent.x, agent.y, -tr.abs(agent.y), tr.zeros(agent.x.shape[0],dtype=tr.float).to(device)],dim=1) #state\n",
    "        Q2 = t_agent.forward(state2)#.transpose(0,1)) #Q value of target agent\n",
    "        \n",
    "        F = tr.stack([-agent.y,tr.zeros(agent.y.shape,dtype=tr.float).to(device)]).to(device)\n",
    "\n",
    "        maxQ1 = tr.max(Q1,dim=1)[0]\n",
    "        maxQ2 = tr.max(Q2,dim=1)[0]\n",
    "\n",
    "        target = R(agent.x, agent.y, F, Q1) + g*maxQ2 #target Q value\n",
    "        criterion = nn.MSELoss()\n",
    "\n",
    "        loss = criterion(target,maxQ1) #custom_loss(target,tr.max(Q1,dim=1)[0])      #loss\n",
    "\n",
    "\n",
    "        #backpropagate\n",
    "        loss.backward()\n",
    "\n",
    "        #update weights                         \n",
    "        optimizer.step()   \n",
    "\n",
    "        #save data to track agent                    \n",
    "        newX = X.reshape(batch_size,-1)\n",
    "        newY = Y.reshape(batch_size,-1)\n",
    "        newx = agent.x[:,None]\n",
    "        newy = agent.y[:,None]\n",
    "       \n",
    "        X = tr.cat((newX,newx),dim=1)\n",
    "        Y = tr.cat((newY,newy),dim=1)\n",
    "\n",
    "    \n",
    "    return X,Y\n",
    "\n"
   ]
  },
  {
   "attachments": {},
   "cell_type": "markdown",
   "metadata": {},
   "source": [
    "In der Simulation werden die Startwerte Gaußverteilt mit mean (-0.5,0) und std 1/10 gesampled (für Robustheit)."
   ]
  },
  {
   "cell_type": "code",
   "execution_count": 91,
   "metadata": {},
   "outputs": [
    {
     "data": {
      "image/png": "[encoded data removed]",
      "text/plain": [
       "<Figure size 640x480 with 1 Axes>"
      ]
     },
     "metadata": {},
     "output_type": "display_data"
    }
   ],
   "source": [
    "#Simulation\n",
    "mu, sig = -0.5, 0.1\n",
    "x = tr.randn(batch_size, dtype=tr.float).to(device)*sig + mu\n",
    "y = tr.randn(batch_size, dtype=tr.float).to(device)*sig\n",
    "agent = Agent(x,y).to(device)\n",
    "\n",
    "t_agent = Agent(x,y).to(device)\n",
    "t_agent.load_state_dict(agent.state_dict()) #copies weights from agent to t_agent\n",
    "t_agent.eval()\n",
    "\n",
    "\n",
    "optimizer = tr.optim.Adam(agent.parameters(), lr=0.001)\n",
    "\n",
    "for i in range(epoch):\n",
    "    e =1-i/epoch\n",
    "    X,Y = episode(agent, t_agent, t_update = t_update, max_steps = max_steps, g=g, optimizer=optimizer,e=e)\n",
    "    agent.x = tr.randn(batch_size, dtype=tr.float).to(device)*sig + mu\n",
    "    agent.y = tr.randn(batch_size, dtype=tr.float).to(device)*sig\n",
    "    \n",
    "    \n",
    "    if i%10 == 0:\n",
    "        x,y = X[0].detach().to('cpu').numpy(),Y[0].detach().to('cpu').numpy()\n",
    "        plt.scatter(x,y,label=int(i))#,c=np.arange(len(x)),cmap='viridis')\n",
    "    \n",
    "    \n",
    "plt.xlim(-1,1)\n",
    "plt.ylim(-1,1)\n",
    "plt.scatter(-0.5,0,c='g',label='start mean',marker='D')    \n",
    "plt.scatter(0.5,0,c='r',label='goal',marker='x')\n",
    "plt.legend(ncol=2,loc='best')\n",
    "plt.show()\n"
   ]
  },
  {
   "attachments": {},
   "cell_type": "markdown",
   "metadata": {},
   "source": [
    "Also am Bild ist zu erkennen, dass es am ende lernt, nur nach rechts zu gehen, aber auch dass es lernt :D"
   ]
  }
 ],
 "metadata": {
  "kernelspec": {
   "display_name": "tr",
   "language": "python",
   "name": "python3"
  },
  "language_info": {
   "codemirror_mode": {
    "name": "ipython",
    "version": 3
   },
   "file_extension": ".py",
   "mimetype": "text/x-python",
   "name": "python",
   "nbconvert_exporter": "python",
   "pygments_lexer": "ipython3",
   "version": "3.11.3"
  },
  "orig_nbformat": 4
 },
 "nbformat": 4,
 "nbformat_minor": 2
}
