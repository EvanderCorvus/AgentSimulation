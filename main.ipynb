{
 "cells": [
  {
   "cell_type": "code",
   "execution_count": 1,
   "metadata": {},
   "outputs": [],
   "source": [
    "import torch as tr\n",
    "import torch.nn as nn\n",
    "import matplotlib.pyplot as plt\n",
    "import numpy as np"
   ]
  },
  {
   "cell_type": "code",
   "execution_count": 10,
   "metadata": {},
   "outputs": [],
   "source": [
    "#Force Field\n",
    "\n",
    "X,Y = np.linspace(-0.75,0.75,43),np.linspace(-0.75,0.75,43)\n",
    "\n",
    "# def U(x,y,U_0=0.4): #potential function, U_0 is the amplitude, x and y are the coordinates, Gradient needs to be calculated manually in forward pass.\n",
    "#     if (x**2+y**2)**0.5<=0.5:\n",
    "#         return tr.tensor((16*U_0*((x**2+y**2)**0.5-0.25)**2),dtype=tr.half)\n",
    "#     else:\n",
    "#         return tr.tensor(0,dtype=tr.half)\n",
    "\n",
    "def U(x,y,U_0=0.4): #potential function, U_0 is the amplitude, x and y are the coordinates, Gradient needs to be calculated manually in forward pass.\n",
    "    if (x**2+y**2)**0.5<=0.5:\n",
    "        return 16*U_0*((x**2+y**2)**0.5-0.25)**2\n",
    "    else:\n",
    "        return 0\n",
    "# Z = U(X,Y)\n",
    "# F = tr.from_numpy(np.gradient(Z))\n",
    "# print(F.shape)"
   ]
  },
  {
   "cell_type": "code",
   "execution_count": 26,
   "metadata": {},
   "outputs": [
    {
     "name": "stderr",
     "output_type": "stream",
     "text": [
      "C:\\Users\\igonn\\AppData\\Local\\Temp\\ipykernel_17692\\1769924650.py:11: UserWarning: To copy construct from a tensor, it is recommended to use sourceTensor.clone().detach() or sourceTensor.clone().detach().requires_grad_(True), rather than torch.tensor(sourceTensor).\n",
      "  F = tr.tensor(tr.from_numpy(np.stack((force_field_x, force_field_y), axis=2)),dtype=tr.float)\n"
     ]
    }
   ],
   "source": [
    "#Toy Force Field\n",
    "x = np.linspace(-0.75, 0.75, 100)\n",
    "y = np.linspace(-0.75, 0.75, 100)\n",
    "X, Y = np.meshgrid(x, y)\n",
    "\n",
    "# Calculate the force field\n",
    "force_field_x = -np.abs(Y)\n",
    "force_field_y = np.zeros_like(X)\n",
    "\n",
    "# Create the meshgrid for force field\n",
    "F = tr.tensor(tr.from_numpy(np.stack((force_field_x, force_field_y), axis=2)),dtype=tr.float)\n"
   ]
  },
  {
   "cell_type": "code",
   "execution_count": 20,
   "metadata": {},
   "outputs": [],
   "source": [
    "#Agent Class\n",
    "class Agent(nn.Module):\n",
    "    def __init__(self,x=tr.tensor(-0.5,dtype=tr.float),y=tr.tensor(-0.5,dtype=tr.float),b=tr.tensor(0,dtype=tr.float)):#initialize agent at location (-0.5,-0.5)\n",
    "        super(Agent, self).__init__()\n",
    "        self.x=x #x coordinate\n",
    "        self.y=y #y coordinate\n",
    "        self.b=b #bias\n",
    "        self.input = nn.Linear(5, 64) #input layer\n",
    "        self.hidden = nn.Linear(64, 32) #hidden layer\n",
    "        self.output = nn.Linear(32, 4) #hidden layer\n",
    "        self.activation = nn.ReLU() #activation function\n",
    "        #self.arctan = nn.Atan() #arctan function\n",
    "\n",
    "    def forward(self, x): #forward pass\n",
    "        x1 = self.activation(self.input(x))\n",
    "        x2 = self.activation(self.hidden(x1))\n",
    "        x3 = self.activation(self.output(x2))\n",
    "        return x3\n",
    "    \n",
    "\n",
    "    def move(self,Q):\n",
    "        L = tr.argmax(Q)\n",
    "        if L==0: dx = 0.0357 #up\n",
    "        elif L==1: dx = -0.0357 #down\n",
    "        elif L==2: dy = 0.0357 #right\n",
    "        elif L==3: dy = -0.0357 #left\n",
    "        \n",
    "        if not -0.75<=self.x+dx<=0.75:\n",
    "            dx=0\n",
    "        if not -0.75<=self.y+dy<=0.75:\n",
    "            dy=0\n",
    "        self.x+=dx\n",
    "        self.y+=dy\n",
    "\n",
    "def R(F):\n",
    "    dt = 0.0357/F\n",
    "    return -dt/1000"
   ]
  },
  {
   "cell_type": "code",
   "execution_count": 24,
   "metadata": {},
   "outputs": [
    {
     "ename": "RuntimeError",
     "evalue": "expected scalar type Double but found Float",
     "output_type": "error",
     "traceback": [
      "\u001b[1;31m---------------------------------------------------------------------------\u001b[0m",
      "\u001b[1;31mRuntimeError\u001b[0m                              Traceback (most recent call last)",
      "Cell \u001b[1;32mIn[24], line 12\u001b[0m\n\u001b[0;32m      9\u001b[0m \u001b[39m# if dT%100==0:#update target agent every 100 steps\u001b[39;00m\n\u001b[0;32m     10\u001b[0m \u001b[39m#     t_agent=agent\u001b[39;00m\n\u001b[0;32m     11\u001b[0m s \u001b[39m=\u001b[39m tr\u001b[39m.\u001b[39mtensor([agent\u001b[39m.\u001b[39mx,agent\u001b[39m.\u001b[39my],dtype\u001b[39m=\u001b[39mtr\u001b[39m.\u001b[39mdouble) \u001b[39m#state\u001b[39;00m\n\u001b[1;32m---> 12\u001b[0m Q1 \u001b[39m=\u001b[39m agent\u001b[39m.\u001b[39;49mforward(tr\u001b[39m.\u001b[39;49mtensor([agent\u001b[39m.\u001b[39;49mx,agent\u001b[39m.\u001b[39;49my,\u001b[39m-\u001b[39;49mnp\u001b[39m.\u001b[39;49mabs(agent\u001b[39m.\u001b[39;49my),tr\u001b[39m.\u001b[39;49mtensor(\u001b[39m0\u001b[39;49m,dtype\u001b[39m=\u001b[39;49mtr\u001b[39m.\u001b[39;49mdouble),agent\u001b[39m.\u001b[39;49mb])) \u001b[39m#Q value\u001b[39;00m\n\u001b[0;32m     13\u001b[0m agent\u001b[39m.\u001b[39mmove(Q1) \u001b[39m#move agent\u001b[39;00m\n\u001b[0;32m     14\u001b[0m Q2 \u001b[39m=\u001b[39m agent\u001b[39m.\u001b[39mforward(tr\u001b[39m.\u001b[39mtensor([agent\u001b[39m.\u001b[39mx,agent\u001b[39m.\u001b[39my,\u001b[39m-\u001b[39mtr\u001b[39m.\u001b[39mabs(agent\u001b[39m.\u001b[39my),tr\u001b[39m.\u001b[39mtensor(\u001b[39m0\u001b[39m,dtype\u001b[39m=\u001b[39mtr\u001b[39m.\u001b[39mdouble),agent\u001b[39m.\u001b[39mb])) \u001b[39m#Q value\u001b[39;00m\n",
      "Cell \u001b[1;32mIn[20], line 15\u001b[0m, in \u001b[0;36mAgent.forward\u001b[1;34m(self, x)\u001b[0m\n\u001b[0;32m     14\u001b[0m \u001b[39mdef\u001b[39;00m \u001b[39mforward\u001b[39m(\u001b[39mself\u001b[39m, x): \u001b[39m#forward pass\u001b[39;00m\n\u001b[1;32m---> 15\u001b[0m     x1 \u001b[39m=\u001b[39m \u001b[39mself\u001b[39m\u001b[39m.\u001b[39mactivation(\u001b[39mself\u001b[39;49m\u001b[39m.\u001b[39;49minput(x))\n\u001b[0;32m     16\u001b[0m     x2 \u001b[39m=\u001b[39m \u001b[39mself\u001b[39m\u001b[39m.\u001b[39mactivation(\u001b[39mself\u001b[39m\u001b[39m.\u001b[39mhidden(x1))\n\u001b[0;32m     17\u001b[0m     x3 \u001b[39m=\u001b[39m \u001b[39mself\u001b[39m\u001b[39m.\u001b[39mactivation(\u001b[39mself\u001b[39m\u001b[39m.\u001b[39moutput(x2))\n",
      "File \u001b[1;32mc:\\Users\\igonn\\anaconda3\\envs\\tr\\Lib\\site-packages\\torch\\nn\\modules\\module.py:1501\u001b[0m, in \u001b[0;36mModule._call_impl\u001b[1;34m(self, *args, **kwargs)\u001b[0m\n\u001b[0;32m   1496\u001b[0m \u001b[39m# If we don't have any hooks, we want to skip the rest of the logic in\u001b[39;00m\n\u001b[0;32m   1497\u001b[0m \u001b[39m# this function, and just call forward.\u001b[39;00m\n\u001b[0;32m   1498\u001b[0m \u001b[39mif\u001b[39;00m \u001b[39mnot\u001b[39;00m (\u001b[39mself\u001b[39m\u001b[39m.\u001b[39m_backward_hooks \u001b[39mor\u001b[39;00m \u001b[39mself\u001b[39m\u001b[39m.\u001b[39m_backward_pre_hooks \u001b[39mor\u001b[39;00m \u001b[39mself\u001b[39m\u001b[39m.\u001b[39m_forward_hooks \u001b[39mor\u001b[39;00m \u001b[39mself\u001b[39m\u001b[39m.\u001b[39m_forward_pre_hooks\n\u001b[0;32m   1499\u001b[0m         \u001b[39mor\u001b[39;00m _global_backward_pre_hooks \u001b[39mor\u001b[39;00m _global_backward_hooks\n\u001b[0;32m   1500\u001b[0m         \u001b[39mor\u001b[39;00m _global_forward_hooks \u001b[39mor\u001b[39;00m _global_forward_pre_hooks):\n\u001b[1;32m-> 1501\u001b[0m     \u001b[39mreturn\u001b[39;00m forward_call(\u001b[39m*\u001b[39;49margs, \u001b[39m*\u001b[39;49m\u001b[39m*\u001b[39;49mkwargs)\n\u001b[0;32m   1502\u001b[0m \u001b[39m# Do not call functions when jit is used\u001b[39;00m\n\u001b[0;32m   1503\u001b[0m full_backward_hooks, non_full_backward_hooks \u001b[39m=\u001b[39m [], []\n",
      "File \u001b[1;32mc:\\Users\\igonn\\anaconda3\\envs\\tr\\Lib\\site-packages\\torch\\nn\\modules\\linear.py:114\u001b[0m, in \u001b[0;36mLinear.forward\u001b[1;34m(self, input)\u001b[0m\n\u001b[0;32m    113\u001b[0m \u001b[39mdef\u001b[39;00m \u001b[39mforward\u001b[39m(\u001b[39mself\u001b[39m, \u001b[39minput\u001b[39m: Tensor) \u001b[39m-\u001b[39m\u001b[39m>\u001b[39m Tensor:\n\u001b[1;32m--> 114\u001b[0m     \u001b[39mreturn\u001b[39;00m F\u001b[39m.\u001b[39;49mlinear(\u001b[39minput\u001b[39;49m, \u001b[39mself\u001b[39;49m\u001b[39m.\u001b[39;49mweight, \u001b[39mself\u001b[39;49m\u001b[39m.\u001b[39;49mbias)\n",
      "\u001b[1;31mRuntimeError\u001b[0m: expected scalar type Double but found Float"
     ]
    }
   ],
   "source": [
    "#Simulation\n",
    "agent = Agent()\n",
    "# t_agent = Agent()\n",
    "optimizer = tr.optim.Adam(agent.parameters(), lr=0.001)\n",
    "dT = 0\n",
    "g = 0.9\n",
    "while dT<2000:\n",
    "    dT+=1\n",
    "    # if dT%100==0:#update target agent every 100 steps\n",
    "    #     t_agent=agent\n",
    "    s = tr.tensor([agent.x,agent.y],dtype=tr.float) #state\n",
    "    Q1 = agent.forward(tr.tensor([agent.x,agent.y,-np.abs(agent.y),tr.tensor(0,dtype=tr.float),agent.b])) #Q value\n",
    "    agent.move(Q1) #move agent\n",
    "    Q2 = agent.forward(tr.tensor([agent.x,agent.y,-tr.abs(agent.y),tr.tensor(0,dtype=tr.float),agent.b])) #Q value\n",
    "    tQ = R(tr.abs(agent.y))+g* tr.max(Q2) #target Q value\n",
    "    loss = 1/2*(tQ-Q1)**2 #loss\n",
    "    optimizer.zero_grad() #zero gradients\n",
    "    loss.backward() #backpropagate\n",
    "    optimizer.step() #update weights\n",
    "    if (agent.x,agent.y) == (0.5,0.5):\n",
    "        print('success')\n",
    "        break"
   ]
  }
 ],
 "metadata": {
  "kernelspec": {
   "display_name": "tr",
   "language": "python",
   "name": "python3"
  },
  "language_info": {
   "codemirror_mode": {
    "name": "ipython",
    "version": 3
   },
   "file_extension": ".py",
   "mimetype": "text/x-python",
   "name": "python",
   "nbconvert_exporter": "python",
   "pygments_lexer": "ipython3",
   "version": "3.11.3"
  },
  "orig_nbformat": 4
 },
 "nbformat": 4,
 "nbformat_minor": 2
}
